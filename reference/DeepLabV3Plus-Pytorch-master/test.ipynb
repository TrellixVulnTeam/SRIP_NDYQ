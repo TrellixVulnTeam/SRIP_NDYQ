{
 "cells": [
  {
   "cell_type": "code",
   "execution_count": 1,
   "metadata": {},
   "outputs": [],
   "source": [
    "import zipfile"
   ]
  },
  {
   "cell_type": "code",
   "execution_count": 3,
   "metadata": {},
   "outputs": [],
   "source": [
    "with zipfile.ZipFile(\"leftImg8bit_trainvaltest.zip\",\"r\") as zip_ref:\n",
    "    zip_ref.extractall(\"./dataset/data/cityscapes/\")"
   ]
  }
 ],
 "metadata": {
  "kernelspec": {
   "display_name": "Python 3.10.4 ('kaggle')",
   "language": "python",
   "name": "python3"
  },
  "language_info": {
   "codemirror_mode": {
    "name": "ipython",
    "version": 3
   },
   "file_extension": ".py",
   "mimetype": "text/x-python",
   "name": "python",
   "nbconvert_exporter": "python",
   "pygments_lexer": "ipython3",
   "version": "3.10.4"
  },
  "orig_nbformat": 4,
  "vscode": {
   "interpreter": {
    "hash": "6a7e61d6e2828b9a28b9292f6518087fd28040b9cc8f6513c7c47128c40c0f77"
   }
  }
 },
 "nbformat": 4,
 "nbformat_minor": 2
}
