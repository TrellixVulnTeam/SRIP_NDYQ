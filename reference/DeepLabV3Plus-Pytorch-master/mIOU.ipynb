{
 "cells": [
  {
   "cell_type": "code",
   "execution_count": null,
   "metadata": {},
   "outputs": [
    {
     "ename": "",
     "evalue": "",
     "output_type": "error",
     "traceback": [
      "\u001b[1;31mRunning cells with 'Python 3.9.12 ('deeplabV3')' requires ipykernel package.\n",
      "Run the following command to install 'ipykernel' into the Python environment. \n",
      "Command: 'conda install -n deeplabV3 ipykernel --update-deps --force-reinstall'"
     ]
    }
   ],
   "source": [
    "import numpy as np  "
   ]
  },
  {
   "cell_type": "code",
   "execution_count": null,
   "metadata": {},
   "outputs": [
    {
     "ename": "",
     "evalue": "",
     "output_type": "error",
     "traceback": [
      "\u001b[1;31mRunning cells with 'Python 3.8.10 64-bit' requires ipykernel package.\n",
      "Run the following command to install 'ipykernel' into the Python environment. \n",
      "Command: '/bin/python3 -m pip install ipykernel -U --user --force-reinstall'"
     ]
    }
   ],
   "source": [
    "n_classes = 21\n",
    "confusion_matrix = np.zeros((n_classes, n_classes))\n",
    "hist = confusion_matrix\n",
    "acc = np.diag(hist).sum() / hist.sum()\n",
    "acc_cls = np.diag(hist) / hist.sum(axis=1)\n",
    "acc_cls = np.nanmean(acc_cls)\n",
    "iu = np.diag(hist) / (hist.sum(axis=1) + hist.sum(axis=0) - np.diag(hist))\n",
    "mean_iu = np.nanmean(iu)\n",
    "freq = hist.sum(axis=1) / hist.sum()\n",
    "fwavacc = (freq[freq > 0] * iu[freq > 0]).sum()\n",
    "cls_iu = dict(zip(range(n_classes), iu))"
   ]
  }
 ],
 "metadata": {
  "kernelspec": {
   "display_name": "Python 3.9.12 ('deeplabV3')",
   "language": "python",
   "name": "python3"
  },
  "language_info": {
   "name": "python",
   "version": "3.9.12"
  },
  "orig_nbformat": 4,
  "vscode": {
   "interpreter": {
    "hash": "f744b35205b15c48b4260e45f08d7e15a777d2ebe3a03c84a84328ba1e28b6db"
   }
  }
 },
 "nbformat": 4,
 "nbformat_minor": 2
}
